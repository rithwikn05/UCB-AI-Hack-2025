{
 "cells": [
  {
   "cell_type": "markdown",
   "metadata": {
    "colab_type": "text",
    "id": "pr1eEWIUjiBc"
   },
   "source": [
    "# Earth Engine REST API Quickstart\n",
    "\n",
    "This is a demonstration notebook for using the Earth Engine REST API.  See the complete guide for more information: https://developers.google.com/earth-engine/reference/Quickstart.\n"
   ]
  },
  {
   "cell_type": "markdown",
   "metadata": {
    "colab_type": "text",
    "id": "OfMAA6YhPuFl"
   },
   "source": [
    "## Authentication\n",
    "\n",
    "The first step is to choose a project and login to Google Cloud."
   ]
  },
  {
   "cell_type": "code",
   "execution_count": 11,
   "metadata": {
    "colab": {},
    "colab_type": "code",
    "id": "FRm2HczTIlKe"
   },
   "outputs": [],
   "source": [
    "# INSERT YOUR PROJECT HERE\n",
    "PROJECT = 'turnkey-topic-463601-f5'\n",
    "# !gcloud auth login --project {PROJECT}"
   ]
  },
  {
   "cell_type": "markdown",
   "metadata": {
    "colab_type": "text",
    "id": "hnufOtSfP0jX"
   },
   "source": [
    "## Define service account credentials"
   ]
  },
  {
   "cell_type": "code",
   "execution_count": null,
   "metadata": {
    "colab": {},
    "colab_type": "code",
    "id": "tLxOnKL2Nk5p"
   },
   "outputs": [],
   "source": [
    "# INSERT YOUR SERVICE ACCOUNT HERE\n",
    "SERVICE_ACCOUNT='earthengine@turnkey-topic-463601-f5.iam.gserviceaccount.com'\n",
    "KEY = 'my-secret-key.json'\n",
    "\n",
    "# !gcloud iam service-accounts keys create {KEY} --iam-account {SERVICE_ACCOUNT}"
   ]
  },
  {
   "cell_type": "markdown",
   "metadata": {
    "colab_type": "text",
    "id": "6QksNfvaY5em"
   },
   "source": [
    "## Create an authorized session to make HTTP requests"
   ]
  },
  {
   "cell_type": "code",
   "execution_count": 14,
   "metadata": {
    "colab": {},
    "colab_type": "code",
    "id": "h2MHcyeqLufx"
   },
   "outputs": [
    {
     "ename": "FileNotFoundError",
     "evalue": "[Errno 2] No such file or directory: '~/Code/UCB-AI-Hack-2025/my-secret-key.json'",
     "output_type": "error",
     "traceback": [
      "\u001b[31m---------------------------------------------------------------------------\u001b[39m",
      "\u001b[31mFileNotFoundError\u001b[39m                         Traceback (most recent call last)",
      "\u001b[36mCell\u001b[39m\u001b[36m \u001b[39m\u001b[32mIn[14]\u001b[39m\u001b[32m, line 4\u001b[39m\n\u001b[32m      1\u001b[39m \u001b[38;5;28;01mfrom\u001b[39;00m\u001b[38;5;250m \u001b[39m\u001b[34;01mgoogle\u001b[39;00m\u001b[34;01m.\u001b[39;00m\u001b[34;01mauth\u001b[39;00m\u001b[34;01m.\u001b[39;00m\u001b[34;01mtransport\u001b[39;00m\u001b[34;01m.\u001b[39;00m\u001b[34;01mrequests\u001b[39;00m\u001b[38;5;250m \u001b[39m\u001b[38;5;28;01mimport\u001b[39;00m AuthorizedSession\n\u001b[32m      2\u001b[39m \u001b[38;5;28;01mfrom\u001b[39;00m\u001b[38;5;250m \u001b[39m\u001b[34;01mgoogle\u001b[39;00m\u001b[34;01m.\u001b[39;00m\u001b[34;01moauth2\u001b[39;00m\u001b[38;5;250m \u001b[39m\u001b[38;5;28;01mimport\u001b[39;00m service_account\n\u001b[32m----> \u001b[39m\u001b[32m4\u001b[39m credentials = \u001b[43mservice_account\u001b[49m\u001b[43m.\u001b[49m\u001b[43mCredentials\u001b[49m\u001b[43m.\u001b[49m\u001b[43mfrom_service_account_file\u001b[49m\u001b[43m(\u001b[49m\u001b[43mKEY\u001b[49m\u001b[43m)\u001b[49m\n\u001b[32m      5\u001b[39m scoped_credentials = credentials.with_scopes(\n\u001b[32m      6\u001b[39m     [\u001b[33m'\u001b[39m\u001b[33mhttps://www.googleapis.com/auth/cloud-platform\u001b[39m\u001b[33m'\u001b[39m])\n\u001b[32m      8\u001b[39m session = AuthorizedSession(scoped_credentials)\n",
      "\u001b[36mFile \u001b[39m\u001b[32m~/miniconda-25.1.1/envs/hackai25/lib/python3.12/site-packages/google/oauth2/service_account.py:260\u001b[39m, in \u001b[36mCredentials.from_service_account_file\u001b[39m\u001b[34m(cls, filename, **kwargs)\u001b[39m\n\u001b[32m    248\u001b[39m \u001b[38;5;129m@classmethod\u001b[39m\n\u001b[32m    249\u001b[39m \u001b[38;5;28;01mdef\u001b[39;00m\u001b[38;5;250m \u001b[39m\u001b[34mfrom_service_account_file\u001b[39m(\u001b[38;5;28mcls\u001b[39m, filename, **kwargs):\n\u001b[32m    250\u001b[39m \u001b[38;5;250m    \u001b[39m\u001b[33;03m\"\"\"Creates a Credentials instance from a service account json file.\u001b[39;00m\n\u001b[32m    251\u001b[39m \n\u001b[32m    252\u001b[39m \u001b[33;03m    Args:\u001b[39;00m\n\u001b[32m   (...)\u001b[39m\u001b[32m    258\u001b[39m \u001b[33;03m            credentials.\u001b[39;00m\n\u001b[32m    259\u001b[39m \u001b[33;03m    \"\"\"\u001b[39;00m\n\u001b[32m--> \u001b[39m\u001b[32m260\u001b[39m     info, signer = \u001b[43m_service_account_info\u001b[49m\u001b[43m.\u001b[49m\u001b[43mfrom_filename\u001b[49m\u001b[43m(\u001b[49m\n\u001b[32m    261\u001b[39m \u001b[43m        \u001b[49m\u001b[43mfilename\u001b[49m\u001b[43m,\u001b[49m\u001b[43m \u001b[49m\u001b[43mrequire\u001b[49m\u001b[43m=\u001b[49m\u001b[43m[\u001b[49m\u001b[33;43m\"\u001b[39;49m\u001b[33;43mclient_email\u001b[39;49m\u001b[33;43m\"\u001b[39;49m\u001b[43m,\u001b[49m\u001b[43m \u001b[49m\u001b[33;43m\"\u001b[39;49m\u001b[33;43mtoken_uri\u001b[39;49m\u001b[33;43m\"\u001b[39;49m\u001b[43m]\u001b[49m\n\u001b[32m    262\u001b[39m \u001b[43m    \u001b[49m\u001b[43m)\u001b[49m\n\u001b[32m    263\u001b[39m     \u001b[38;5;28;01mreturn\u001b[39;00m \u001b[38;5;28mcls\u001b[39m._from_signer_and_info(signer, info, **kwargs)\n",
      "\u001b[36mFile \u001b[39m\u001b[32m~/miniconda-25.1.1/envs/hackai25/lib/python3.12/site-packages/google/auth/_service_account_info.py:78\u001b[39m, in \u001b[36mfrom_filename\u001b[39m\u001b[34m(filename, require, use_rsa_signer)\u001b[39m\n\u001b[32m     64\u001b[39m \u001b[38;5;28;01mdef\u001b[39;00m\u001b[38;5;250m \u001b[39m\u001b[34mfrom_filename\u001b[39m(filename, require=\u001b[38;5;28;01mNone\u001b[39;00m, use_rsa_signer=\u001b[38;5;28;01mTrue\u001b[39;00m):\n\u001b[32m     65\u001b[39m \u001b[38;5;250m    \u001b[39m\u001b[33;03m\"\"\"Reads a Google service account JSON file and returns its parsed info.\u001b[39;00m\n\u001b[32m     66\u001b[39m \n\u001b[32m     67\u001b[39m \u001b[33;03m    Args:\u001b[39;00m\n\u001b[32m   (...)\u001b[39m\u001b[32m     76\u001b[39m \u001b[33;03m            info and a signer instance.\u001b[39;00m\n\u001b[32m     77\u001b[39m \u001b[33;03m    \"\"\"\u001b[39;00m\n\u001b[32m---> \u001b[39m\u001b[32m78\u001b[39m     \u001b[38;5;28;01mwith\u001b[39;00m \u001b[43mio\u001b[49m\u001b[43m.\u001b[49m\u001b[43mopen\u001b[49m\u001b[43m(\u001b[49m\u001b[43mfilename\u001b[49m\u001b[43m,\u001b[49m\u001b[43m \u001b[49m\u001b[33;43m\"\u001b[39;49m\u001b[33;43mr\u001b[39;49m\u001b[33;43m\"\u001b[39;49m\u001b[43m,\u001b[49m\u001b[43m \u001b[49m\u001b[43mencoding\u001b[49m\u001b[43m=\u001b[49m\u001b[33;43m\"\u001b[39;49m\u001b[33;43mutf-8\u001b[39;49m\u001b[33;43m\"\u001b[39;49m\u001b[43m)\u001b[49m \u001b[38;5;28;01mas\u001b[39;00m json_file:\n\u001b[32m     79\u001b[39m         data = json.load(json_file)\n\u001b[32m     80\u001b[39m         \u001b[38;5;28;01mreturn\u001b[39;00m data, from_dict(data, require=require, use_rsa_signer=use_rsa_signer)\n",
      "\u001b[31mFileNotFoundError\u001b[39m: [Errno 2] No such file or directory: '~/Code/UCB-AI-Hack-2025/my-secret-key.json'"
     ]
    }
   ],
   "source": [
    "from google.auth.transport.requests import AuthorizedSession\n",
    "from google.oauth2 import service_account\n",
    "\n",
    "credentials = service_account.Credentials.from_service_account_file(KEY)\n",
    "scoped_credentials = credentials.with_scopes(\n",
    "    ['https://www.googleapis.com/auth/cloud-platform'])\n",
    "\n",
    "session = AuthorizedSession(scoped_credentials)\n",
    "\n",
    "url = 'https://earthengine.googleapis.com/v1alpha/projects/earthengine-public/assets/LANDSAT'\n",
    "\n",
    "response = session.get(url)\n",
    "\n",
    "from pprint import pprint\n",
    "import json\n",
    "pprint(json.loads(response.content))\n"
   ]
  },
  {
   "cell_type": "markdown",
   "metadata": {
    "colab_type": "text",
    "id": "_KjWa7KJY_7m"
   },
   "source": [
    "## Get a list of images at a point"
   ]
  },
  {
   "cell_type": "markdown",
   "metadata": {
    "colab_type": "text",
    "id": "5kKbIDctpZeH"
   },
   "source": [
    "Query for Sentinel-2 images at a specific location, in a specific time range and with estimated cloud cover less than 10%."
   ]
  },
  {
   "cell_type": "code",
   "execution_count": 0,
   "metadata": {
    "colab": {},
    "colab_type": "code",
    "id": "0bENTPjMQr5h"
   },
   "outputs": [],
   "source": [
    "import urllib\n",
    "\n",
    "coords = [-122.085, 37.422]\n",
    "\n",
    "project = 'projects/earthengine-public'\n",
    "asset_id = 'COPERNICUS/S2'\n",
    "name = '{}/assets/{}'.format(project, asset_id)\n",
    "url = 'https://earthengine.googleapis.com/v1alpha/{}:listImages?{}'.format(\n",
    "  name, urllib.parse.urlencode({\n",
    "    'startTime': '2017-04-01T00:00:00.000Z',\n",
    "    'endTime': '2017-05-01T00:00:00.000Z',\n",
    "    'region': '{\"type\":\"Point\", \"coordinates\":' + str(coords) + '}',\n",
    "    'filter': 'CLOUDY_PIXEL_PERCENTAGE < 10',\n",
    "}))\n",
    "\n",
    "response = session.get(url)\n",
    "content = response.content\n",
    "\n",
    "for asset in json.loads(content)['images']:\n",
    "    id = asset['id']\n",
    "    cloud_cover = asset['properties']['CLOUDY_PIXEL_PERCENTAGE']\n",
    "    print('%s : %s' % (id, cloud_cover))"
   ]
  },
  {
   "cell_type": "markdown",
   "metadata": {
    "colab_type": "text",
    "id": "DY0MfkjiAAW_"
   },
   "source": [
    "## Inspect an image\n",
    "\n",
    "Get the asset name from the previous output and request its metadata."
   ]
  },
  {
   "cell_type": "code",
   "execution_count": 0,
   "metadata": {
    "colab": {},
    "colab_type": "code",
    "id": "ddzrXIl4ADLk"
   },
   "outputs": [],
   "source": [
    "asset_id = 'COPERNICUS/S2/20170430T190351_20170430T190351_T10SEG'\n",
    "name = '{}/assets/{}'.format(project, asset_id)\n",
    "url = 'https://earthengine.googleapis.com/v1alpha/{}'.format(name)\n",
    "\n",
    "response = session.get(url)\n",
    "content = response.content\n",
    "\n",
    "asset = json.loads(content)\n",
    "print('Band Names: %s' % ','.join(band['id'] for band in asset['bands']))\n",
    "print('First Band: %s' % json.dumps(asset['bands'][0], indent=2, sort_keys=True))"
   ]
  },
  {
   "cell_type": "markdown",
   "metadata": {
    "colab_type": "text",
    "id": "O5I63cC6ZDQn"
   },
   "source": [
    "## Get pixels from one of the images"
   ]
  },
  {
   "cell_type": "code",
   "execution_count": 0,
   "metadata": {
    "colab": {},
    "colab_type": "code",
    "id": "xJhv6bfEZHa2"
   },
   "outputs": [],
   "source": [
    "import numpy\n",
    "import io\n",
    "\n",
    "name = '{}/assets/{}'.format(project, asset_id)\n",
    "url = 'https://earthengine.googleapis.com/v1alpha/{}:getPixels'.format(name)\n",
    "body = json.dumps({\n",
    "    'fileFormat': 'NPY',\n",
    "    'bandIds': ['B2', 'B3', 'B4', 'B8'],\n",
    "    'grid': {\n",
    "        'affineTransform': {\n",
    "            'scaleX': 10,\n",
    "            'scaleY': -10,\n",
    "            'translateX': 499980,\n",
    "            'translateY': 4200000,\n",
    "        },\n",
    "        'dimensions': {'width': 256, 'height': 256},\n",
    "    },\n",
    "})\n",
    "\n",
    "pixels_response = session.post(url, body)\n",
    "pixels_content = pixels_response.content\n",
    "\n",
    "array = numpy.load(io.BytesIO(pixels_content))\n",
    "print('Shape: %s' % (array.shape,))\n",
    "print('Data:')\n",
    "print(array)"
   ]
  },
  {
   "cell_type": "markdown",
   "metadata": {
    "colab_type": "text",
    "id": "jcwE2W8kFojo"
   },
   "source": [
    "## Get a thumbnail of an image\n",
    "\n",
    "Note that `name` and `asset` are already defined from the request to get the asset metadata.  "
   ]
  },
  {
   "cell_type": "code",
   "execution_count": 0,
   "metadata": {
    "colab": {},
    "colab_type": "code",
    "id": "xs0ZHHKmFovV"
   },
   "outputs": [],
   "source": [
    "url = 'https://earthengine.googleapis.com/v1alpha/{}:getPixels'.format(name)\n",
    "body = json.dumps({\n",
    "    'fileFormat': 'PNG',\n",
    "    'bandIds': ['B4', 'B3', 'B2'],\n",
    "    'region': asset['geometry'],\n",
    "    'grid': {\n",
    "        'dimensions': {'width': 256, 'height': 256},\n",
    "    },\n",
    "    'visualizationOptions': {\n",
    "        'ranges': [{'min': 0, 'max': 3000}],\n",
    "    },\n",
    "})\n",
    "\n",
    "image_response = session.post(url, body)\n",
    "image_content = image_response.content\n",
    "\n",
    "# Import the Image function from the IPython.display module. \n",
    "from IPython.display import Image\n",
    "Image(image_content)"
   ]
  }
 ],
 "metadata": {
  "colab": {
   "name": "Earth_Engine_REST_API_Quickstart.ipynb",
   "provenance": []
  },
  "kernelspec": {
   "display_name": "hackai25",
   "language": "python",
   "name": "python3"
  },
  "language_info": {
   "codemirror_mode": {
    "name": "ipython",
    "version": 3
   },
   "file_extension": ".py",
   "mimetype": "text/x-python",
   "name": "python",
   "nbconvert_exporter": "python",
   "pygments_lexer": "ipython3",
   "version": "3.12.11"
  }
 },
 "nbformat": 4,
 "nbformat_minor": 0
}
